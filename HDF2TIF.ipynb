{
 "cells": [
  {
   "cell_type": "code",
   "execution_count": null,
   "id": "52121344-f327-45c4-aadd-3a6a13da1421",
   "metadata": {},
   "outputs": [],
   "source": [
    "from osgeo import gdal\n",
    "import os"
   ]
  },
  {
   "cell_type": "code",
   "execution_count": null,
   "id": "27c75d62-d4f1-4026-b15c-394a637637e1",
   "metadata": {},
   "outputs": [],
   "source": [
    "## List input raster files\n",
    "os.chdir('/Users/flurin/Desktop/MVA-WVtiles-hdf')\n",
    "rasterFiles = os.listdir(os.getcwd())\n",
    "#print(rasterFiles)"
   ]
  },
  {
   "cell_type": "code",
   "execution_count": null,
   "id": "6740174a-2749-4d52-a0b3-05971e3f6e3d",
   "metadata": {},
   "outputs": [],
   "source": [
    "#in case you get an error that ds file cannot be convertet get to the directory using cd and from there use the command beneath\n",
    "#find . -name '.DS_Store' -type f -delete"
   ]
  },
  {
   "cell_type": "code",
   "execution_count": null,
   "id": "2250ccd9-d628-4c60-9ae7-76c8b6296534",
   "metadata": {},
   "outputs": [],
   "source": [
    "for i in range(len(rasterFiles)):\n",
    "    #Get File Name Prefix\n",
    "    rasterFilePre = rasterFiles[i][:-3]\n",
    "    print(rasterFilePre)\n",
    "\n",
    "\n",
    "    fileExtension = \"_BBOX.tif\"\n",
    "\n",
    "    ## Open HDF file\n",
    "    hdflayer = gdal.Open(rasterFiles[i], gdal.GA_ReadOnly)\n",
    "    #print(hdflayer.GetSubDatasets())\n",
    "\n",
    "    # Open raster layer\n",
    "    #hdflayer.GetSubDatasets()[0][0] - for first layer\n",
    "    #hdflayer.GetSubDatasets()[1][0] - for second layer ...etc\n",
    "    subhdflayer = hdflayer.GetSubDatasets()[4][0]\n",
    "    #print(subhdflayer)\n",
    "\n",
    "    rlayer = gdal.Open(subhdflayer, gdal.GA_ReadOnly)\n",
    "    #outputName = rlayer.GetMetadata_Dict()['long_name']\n",
    "\n",
    "    #Subset the Long Name\n",
    "    outputName = subhdflayer[92:]\n",
    "\n",
    "    outputNameNoSpace = outputName.strip().replace(\" \",\"_\").replace(\"/\",\"_\")\n",
    "    outputNameFinal = outputNameNoSpace + rasterFilePre + fileExtension\n",
    "\n",
    "    #print(outputNameFinal)\n",
    "\n",
    "    outputFolder = \"/Users/flurin/Desktop/MVA-VWtiles-tif/\"\n",
    "\n",
    "    outputRaster = outputFolder + outputNameFinal\n",
    "    #print(\"******This is the final outputname: \", outputRaster)\n",
    "\n",
    "    #collect bounding box coordinates\n",
    "    HorizontalTileNumber = int(rlayer.GetMetadata_Dict()[\"HorizontalTileNumber\"])\n",
    "    VerticalTileNumber = int(rlayer.GetMetadata_Dict()[\"VerticalTileNumber\"])\n",
    "\n",
    "    WestBoundCoord = (10*HorizontalTileNumber) - 180\n",
    "    NorthBoundCoord = 90-(10*VerticalTileNumber)\n",
    "    EastBoundCoord = WestBoundCoord + 10\n",
    "    SouthBoundCoord = NorthBoundCoord - 10\n",
    "\n",
    "    EPSG = \"-a_srs EPSG:4326\" #WGS84\n",
    "\n",
    "    translateOptionText = EPSG+\" -a_ullr \" + str(WestBoundCoord) + \" \" + str(NorthBoundCoord) + \" \" + str(EastBoundCoord) + \" \" + str(SouthBoundCoord)\n",
    "\n",
    "    translateoptions = gdal.TranslateOptions(gdal.ParseCommandLine(translateOptionText))\n",
    "    gdal.Translate(outputRaster,rlayer, options=translateoptions)\n",
    "\n",
    "    #Display image in QGIS (run it within QGIS python Console) - remove comment to display\n",
    "    #iface.addRasterLayer(outputRaster, outputNameFinal)"
   ]
  }
 ],
 "metadata": {
  "kernelspec": {
   "display_name": "Python 3 (ipykernel)",
   "language": "python",
   "name": "python3"
  },
  "language_info": {
   "codemirror_mode": {
    "name": "ipython",
    "version": 3
   },
   "file_extension": ".py",
   "mimetype": "text/x-python",
   "name": "python",
   "nbconvert_exporter": "python",
   "pygments_lexer": "ipython3",
   "version": "3.9.13"
  }
 },
 "nbformat": 4,
 "nbformat_minor": 5
}
