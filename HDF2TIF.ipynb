{
 "cells": [
  {
   "cell_type": "code",
   "execution_count": 6,
   "id": "52121344-f327-45c4-aadd-3a6a13da1421",
   "metadata": {},
   "outputs": [],
   "source": [
    "from osgeo import gdal\n",
    "import os"
   ]
  },
  {
   "cell_type": "code",
   "execution_count": 7,
   "id": "27c75d62-d4f1-4026-b15c-394a637637e1",
   "metadata": {},
   "outputs": [],
   "source": [
    "## List input raster files\n",
    "os.chdir('/Users/flurin/Desktop/MVA-WVtiles-hdf')\n",
    "rasterFiles = os.listdir(os.getcwd())\n",
    "#print(rasterFiles)"
   ]
  },
  {
   "cell_type": "code",
   "execution_count": 4,
   "id": "6740174a-2749-4d52-a0b3-05971e3f6e3d",
   "metadata": {},
   "outputs": [],
   "source": [
    "#in case you get an error that ds file cannot be convertet get to the directory using cd and from there use the command beneath\n",
    "#find . -name '.DS_Store' -type f -delete"
   ]
  },
  {
   "cell_type": "code",
   "execution_count": 8,
   "id": "2250ccd9-d628-4c60-9ae7-76c8b6296534",
   "metadata": {},
   "outputs": [
    {
     "name": "stdout",
     "output_type": "stream",
     "text": [
      "VNP46A4.A2020001.h09v05.001.2021118145744\n",
      "VNP46A4.A2015001.h09v05.001.2021119011322\n"
     ]
    },
    {
     "name": "stderr",
     "output_type": "stream",
     "text": [
      "Warning 1: Metadata exceeding 32000 bytes cannot be written into GeoTIFF. Transferred to PAM instead.\n",
      "Warning 1: Metadata exceeding 32000 bytes cannot be written into GeoTIFF. Transferred to PAM instead.\n"
     ]
    },
    {
     "name": "stdout",
     "output_type": "stream",
     "text": [
      "VNP46A4.A2012001.h09v05.001.2021124115103\n"
     ]
    },
    {
     "name": "stderr",
     "output_type": "stream",
     "text": [
      "Warning 1: Metadata exceeding 32000 bytes cannot be written into GeoTIFF. Transferred to PAM instead.\n"
     ]
    },
    {
     "name": "stdout",
     "output_type": "stream",
     "text": [
      "VNP46A4.A2013001.h09v05.001.2021120133040\n",
      "VNP46A4.A2017001.h09v05.001.2021120133905\n"
     ]
    },
    {
     "name": "stderr",
     "output_type": "stream",
     "text": [
      "Warning 1: Metadata exceeding 32000 bytes cannot be written into GeoTIFF. Transferred to PAM instead.\n",
      "Warning 1: Metadata exceeding 32000 bytes cannot be written into GeoTIFF. Transferred to PAM instead.\n"
     ]
    },
    {
     "name": "stdout",
     "output_type": "stream",
     "text": [
      "VNP46A4.A2016001.h09v05.001.2021119124721\n"
     ]
    },
    {
     "name": "stderr",
     "output_type": "stream",
     "text": [
      "Warning 1: Metadata exceeding 32000 bytes cannot be written into GeoTIFF. Transferred to PAM instead.\n"
     ]
    },
    {
     "name": "stdout",
     "output_type": "stream",
     "text": [
      "VNP46A4.A2014001.h09v05.001.2021118152133\n",
      "VNP46A4.A2018001.h09v05.001.2021119044755\n"
     ]
    },
    {
     "name": "stderr",
     "output_type": "stream",
     "text": [
      "Warning 1: Metadata exceeding 32000 bytes cannot be written into GeoTIFF. Transferred to PAM instead.\n",
      "Warning 1: Metadata exceeding 32000 bytes cannot be written into GeoTIFF. Transferred to PAM instead.\n"
     ]
    },
    {
     "name": "stdout",
     "output_type": "stream",
     "text": [
      "VNP46A4.A2021001.h09v05.001.2022094115212\n",
      "VNP46A4.A2019001.h09v05.001.2021125115228\n"
     ]
    },
    {
     "name": "stderr",
     "output_type": "stream",
     "text": [
      "Warning 1: Metadata exceeding 32000 bytes cannot be written into GeoTIFF. Transferred to PAM instead.\n",
      "Warning 1: Metadata exceeding 32000 bytes cannot be written into GeoTIFF. Transferred to PAM instead.\n"
     ]
    }
   ],
   "source": [
    "for i in range(len(rasterFiles)):\n",
    "    #Get File Name Prefix\n",
    "    rasterFilePre = rasterFiles[i][:-3]\n",
    "    print(rasterFilePre)\n",
    "\n",
    "\n",
    "    fileExtension = \"_BBOX.tif\"\n",
    "\n",
    "    ## Open HDF file\n",
    "    hdflayer = gdal.Open(rasterFiles[i], gdal.GA_ReadOnly)\n",
    "    #print(hdflayer.GetSubDatasets())\n",
    "\n",
    "    # Open raster layer\n",
    "    #hdflayer.GetSubDatasets()[0][0] - for first layer\n",
    "    #hdflayer.GetSubDatasets()[1][0] - for second layer ...etc\n",
    "    subhdflayer = hdflayer.GetSubDatasets()[4][0]\n",
    "    #print(subhdflayer)\n",
    "\n",
    "    rlayer = gdal.Open(subhdflayer, gdal.GA_ReadOnly)\n",
    "    #outputName = rlayer.GetMetadata_Dict()['long_name']\n",
    "\n",
    "    #Subset the Long Name\n",
    "    outputName = subhdflayer[92:]\n",
    "\n",
    "    outputNameNoSpace = outputName.strip().replace(\" \",\"_\").replace(\"/\",\"_\")\n",
    "    outputNameFinal = outputNameNoSpace + rasterFilePre + fileExtension\n",
    "\n",
    "    #print(outputNameFinal)\n",
    "\n",
    "    outputFolder = \"/Users/flurin/Desktop/MVA-VWtiles-tif/\"\n",
    "\n",
    "    outputRaster = outputFolder + outputNameFinal\n",
    "    #print(\"******This is the final outputname: \", outputRaster)\n",
    "\n",
    "    #collect bounding box coordinates\n",
    "    HorizontalTileNumber = int(rlayer.GetMetadata_Dict()[\"HorizontalTileNumber\"])\n",
    "    VerticalTileNumber = int(rlayer.GetMetadata_Dict()[\"VerticalTileNumber\"])\n",
    "\n",
    "    WestBoundCoord = (10*HorizontalTileNumber) - 180\n",
    "    NorthBoundCoord = 90-(10*VerticalTileNumber)\n",
    "    EastBoundCoord = WestBoundCoord + 10\n",
    "    SouthBoundCoord = NorthBoundCoord - 10\n",
    "\n",
    "    EPSG = \"-a_srs EPSG:4326\" #WGS84\n",
    "\n",
    "    translateOptionText = EPSG+\" -a_ullr \" + str(WestBoundCoord) + \" \" + str(NorthBoundCoord) + \" \" + str(EastBoundCoord) + \" \" + str(SouthBoundCoord)\n",
    "\n",
    "    translateoptions = gdal.TranslateOptions(gdal.ParseCommandLine(translateOptionText))\n",
    "    gdal.Translate(outputRaster,rlayer, options=translateoptions)\n",
    "\n",
    "    #Display image in QGIS (run it within QGIS python Console) - remove comment to display\n",
    "    #iface.addRasterLayer(outputRaster, outputNameFinal)"
   ]
  }
 ],
 "metadata": {
  "kernelspec": {
   "display_name": "Python 3 (ipykernel)",
   "language": "python",
   "name": "python3"
  },
  "language_info": {
   "codemirror_mode": {
    "name": "ipython",
    "version": 3
   },
   "file_extension": ".py",
   "mimetype": "text/x-python",
   "name": "python",
   "nbconvert_exporter": "python",
   "pygments_lexer": "ipython3",
   "version": "3.9.13"
  }
 },
 "nbformat": 4,
 "nbformat_minor": 5
}
