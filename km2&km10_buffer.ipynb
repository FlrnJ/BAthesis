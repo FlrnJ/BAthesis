{
 "cells": [
  {
   "cell_type": "code",
   "execution_count": null,
   "id": "715dfd84-f7df-4c20-add0-a445eb0fb20f",
   "metadata": {},
   "outputs": [],
   "source": [
    "import geopandas as gpd\n",
    "import os\n",
    "import numpy as np\n",
    "import rasterio\n",
    "from rasterio.mask import mask\n",
    "import time"
   ]
  },
  {
   "cell_type": "code",
   "execution_count": null,
   "id": "8828e246-d474-447f-9c04-4242a5898b56",
   "metadata": {},
   "outputs": [],
   "source": [
    "#read the polygons\n",
    "k45_mines = gpd.read_file(\"data/polygons/global_mining_polygons_v2.gpkg\")\n",
    "\n",
    "k45_mines = k45_mines.set_geometry(\"geometry\") #set the column called 'geometry' as the geometry of the GeoPandas\n",
    "k45_mines = k45_mines.to_crs(\"EPSG:4326\") #wgs84\n",
    "\n",
    "k45_mines.head()"
   ]
  },
  {
   "cell_type": "code",
   "execution_count": null,
   "id": "07ae2852-bbda-4b85-98d2-7fa937bab763",
   "metadata": {},
   "outputs": [],
   "source": [
    "all_tif_mosaics = sorted(os.listdir('/Users/flurin/Downloads/mosaic/'))\n",
    "all_tif_mosaics\n",
    "\n",
    "#If list includes .DS_Store file move to directory in terminal and use <find . -name '.DS_Store' -type f -delete> to remove it"
   ]
  },
  {
   "cell_type": "code",
   "execution_count": null,
   "id": "1163385b-fafd-41d9-b743-8f4d93a077f1",
   "metadata": {},
   "outputs": [],
   "source": [
    "for i in range(len(all_tif_mosaics)):\n",
    "    file = all_tif_mosaics[i]\n",
    "    #print('data/viirs-tif/mosaic/' + file)\n",
    "    viirs_data = rasterio.open('/Users/flurin/Downloads/mosaic/' + file)\n",
    "\n",
    "    buff_2km_mean = []\n",
    "    buff_2km_std = []\n",
    "    \n",
    "    for j in range(len(k45_mines)):\n",
    "        active_polygon = k45_mines.iloc[j]\n",
    "        buffer_shape = k45_mines.iloc[j]['geometry'].buffer(0.0166).difference(k45_mines.iloc[j]['geometry'])\n",
    "        crop_img, crop_transform = mask(viirs_data, shapes = [buffer_shape], crop=True)\n",
    "\n",
    "        buff_2km_mean.append(np.mean(crop_img))\n",
    "        buff_2km_std.append(np.std(crop_img))\n",
    "        \n",
    "        #print(f'for mine nr. {j} in year {i} the 2km buffer mean is {np.mean(crop_img)} and the std is {np.std(crop_img)}')\n",
    "\n",
    "    k45_mines['mean_2km_buff_' + all_tif_mosaics[i][:4]] = buff_2km_mean\n",
    "    k45_mines['std_2km_buff_' + all_tif_mosaics[i][:4]] = buff_2km_std\n",
    "    \n",
    "    print(f'Year {all_tif_mosaics[i][:4]} is evaluated.')"
   ]
  },
  {
   "cell_type": "code",
   "execution_count": null,
   "id": "f584311b-d016-4c15-9cd3-5e6c0bf535ee",
   "metadata": {},
   "outputs": [],
   "source": [
    "for i in range(len(all_tif_mosaics)):\n",
    "    file = all_tif_mosaics[i]\n",
    "    #print('data/viirs-tif/mosaic/' + file)\n",
    "    viirs_data = rasterio.open('/Users/flurin/Downloads/mosaic/' + file)\n",
    "\n",
    "    buff_10km_mean = []\n",
    "    buff_10km_std = []\n",
    "    \n",
    "    for j in range(len(k45_mines)):\n",
    "        active_polygon = k45_mines.iloc[j]\n",
    "        buffer_shape = k45_mines.iloc[j]['geometry'].buffer(0.083).difference(k45_mines.iloc[j]['geometry'].buffer(0.0166))\n",
    "        crop_img, crop_transform = mask(viirs_data, shapes = [buffer_shape], crop=True)\n",
    "\n",
    "        buff_10km_mean.append(np.mean(crop_img))\n",
    "        buff_10km_std.append(np.std(crop_img))\n",
    "        \n",
    "        #print(f'for mine nr. {j} in year {i} the 2km buffer mean is {np.mean(crop_img)} and the std is {np.std(crop_img)}')\n",
    "\n",
    "    k45_mines['mean_10km_buff_' + all_tif_mosaics[i][:4]] = buff_10km_mean\n",
    "    k45_mines['std_10km_buff_' + all_tif_mosaics[i][:4]] = buff_10km_std\n",
    "    \n",
    "    print(f'Year {all_tif_mosaics[i][:4]} is evaluated.')"
   ]
  },
  {
   "cell_type": "code",
   "execution_count": null,
   "id": "db3505e7-dba3-4944-9905-888a2352b234",
   "metadata": {},
   "outputs": [],
   "source": [
    "k45_mines.head()"
   ]
  },
  {
   "cell_type": "code",
   "execution_count": null,
   "id": "4995e109-3e2c-4bfa-a6da-f7794213ac98",
   "metadata": {},
   "outputs": [],
   "source": [
    "k45_mines.columns"
   ]
  },
  {
   "cell_type": "code",
   "execution_count": null,
   "id": "ba356980-73df-4f9a-af4c-88ffec4c4535",
   "metadata": {},
   "outputs": [],
   "source": [
    "header = ['AREA' , 'mean_2km_buff_2012',\n",
    "       'std_2km_buff_2012', 'mean_2km_buff_2013', 'std_2km_buff_2013',\n",
    "       'mean_2km_buff_2014', 'std_2km_buff_2014', 'mean_2km_buff_2015',\n",
    "       'std_2km_buff_2015', 'mean_2km_buff_2016', 'std_2km_buff_2016',\n",
    "       'mean_2km_buff_2017', 'std_2km_buff_2017', 'mean_2km_buff_2018',\n",
    "       'std_2km_buff_2018', 'mean_2km_buff_2019', 'std_2km_buff_2019',\n",
    "       'mean_2km_buff_2020', 'std_2km_buff_2020', 'mean_2km_buff_2021',\n",
    "       'std_2km_buff_2021', 'mean_10km_buff_2012', 'std_10km_buff_2012',\n",
    "       'mean_10km_buff_2013', 'std_10km_buff_2013', 'mean_10km_buff_2014',\n",
    "       'std_10km_buff_2014', 'mean_10km_buff_2015', 'std_10km_buff_2015',\n",
    "       'mean_10km_buff_2016', 'std_10km_buff_2016', 'mean_10km_buff_2017',\n",
    "       'std_10km_buff_2017', 'mean_10km_buff_2018', 'std_10km_buff_2018',\n",
    "       'mean_10km_buff_2019', 'std_10km_buff_2019', 'mean_10km_buff_2020',\n",
    "       'std_10km_buff_2020', 'mean_10km_buff_2021', 'std_10km_buff_2021']\n",
    "k45_mines.to_csv('bufferdata_actual.csv', columns = header)"
   ]
  }
 ],
 "metadata": {
  "kernelspec": {
   "display_name": "Python 3 (ipykernel)",
   "language": "python",
   "name": "python3"
  },
  "language_info": {
   "codemirror_mode": {
    "name": "ipython",
    "version": 3
   },
   "file_extension": ".py",
   "mimetype": "text/x-python",
   "name": "python",
   "nbconvert_exporter": "python",
   "pygments_lexer": "ipython3",
   "version": "3.9.13"
  }
 },
 "nbformat": 4,
 "nbformat_minor": 5
}
