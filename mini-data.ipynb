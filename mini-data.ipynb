{
 "cells": [
  {
   "cell_type": "code",
   "execution_count": 1,
   "metadata": {},
   "outputs": [
    {
     "data": {
      "text/html": [
       "<div>\n",
       "<style scoped>\n",
       "    .dataframe tbody tr th:only-of-type {\n",
       "        vertical-align: middle;\n",
       "    }\n",
       "\n",
       "    .dataframe tbody tr th {\n",
       "        vertical-align: top;\n",
       "    }\n",
       "\n",
       "    .dataframe thead th {\n",
       "        text-align: right;\n",
       "    }\n",
       "</style>\n",
       "<table border=\"1\" class=\"dataframe\">\n",
       "  <thead>\n",
       "    <tr style=\"text-align: right;\">\n",
       "      <th></th>\n",
       "      <th>ISO3_CODE</th>\n",
       "      <th>COUNTRY_NAME</th>\n",
       "      <th>AREA</th>\n",
       "      <th>geometry</th>\n",
       "    </tr>\n",
       "  </thead>\n",
       "  <tbody>\n",
       "    <tr>\n",
       "      <th>0</th>\n",
       "      <td>GBR</td>\n",
       "      <td>United Kingdom</td>\n",
       "      <td>1.782044</td>\n",
       "      <td>POLYGON ((-1.67130 55.07660, -1.67040 55.07710...</td>\n",
       "    </tr>\n",
       "    <tr>\n",
       "      <th>1</th>\n",
       "      <td>FJI</td>\n",
       "      <td>Fiji</td>\n",
       "      <td>0.023405</td>\n",
       "      <td>POLYGON ((177.85480 -17.51730, 177.85490 -17.5...</td>\n",
       "    </tr>\n",
       "    <tr>\n",
       "      <th>2</th>\n",
       "      <td>NZL</td>\n",
       "      <td>New Zealand</td>\n",
       "      <td>0.042758</td>\n",
       "      <td>POLYGON ((175.87200 -37.34490, 175.87180 -37.3...</td>\n",
       "    </tr>\n",
       "    <tr>\n",
       "      <th>3</th>\n",
       "      <td>FJI</td>\n",
       "      <td>Fiji</td>\n",
       "      <td>0.248552</td>\n",
       "      <td>POLYGON ((177.84260 -17.51850, 177.84370 -17.5...</td>\n",
       "    </tr>\n",
       "    <tr>\n",
       "      <th>4</th>\n",
       "      <td>FJI</td>\n",
       "      <td>Fiji</td>\n",
       "      <td>0.132724</td>\n",
       "      <td>POLYGON ((177.84950 -17.49510, 177.84920 -17.4...</td>\n",
       "    </tr>\n",
       "  </tbody>\n",
       "</table>\n",
       "</div>"
      ],
      "text/plain": [
       "  ISO3_CODE    COUNTRY_NAME      AREA  \\\n",
       "0       GBR  United Kingdom  1.782044   \n",
       "1       FJI            Fiji  0.023405   \n",
       "2       NZL     New Zealand  0.042758   \n",
       "3       FJI            Fiji  0.248552   \n",
       "4       FJI            Fiji  0.132724   \n",
       "\n",
       "                                            geometry  \n",
       "0  POLYGON ((-1.67130 55.07660, -1.67040 55.07710...  \n",
       "1  POLYGON ((177.85480 -17.51730, 177.85490 -17.5...  \n",
       "2  POLYGON ((175.87200 -37.34490, 175.87180 -37.3...  \n",
       "3  POLYGON ((177.84260 -17.51850, 177.84370 -17.5...  \n",
       "4  POLYGON ((177.84950 -17.49510, 177.84920 -17.4...  "
      ]
     },
     "execution_count": 1,
     "metadata": {},
     "output_type": "execute_result"
    }
   ],
   "source": [
    "import geopandas as gpd\n",
    "data = gpd.read_file(\"/Users/flurin/Desktop/Maus-etal_2022_V2_allfiles/global_mining_polygons_v2.gpkg\")"
   ]
  },
  {
   "cell_type": "code",
   "execution_count": 3,
   "metadata": {},
   "outputs": [
    {
     "name": "stdout",
     "output_type": "stream",
     "text": [
      "<class 'geopandas.geodataframe.GeoDataFrame'>\n"
     ]
    }
   ],
   "source": [
    "data.head()  # Prints the first 5 rows of the loaded data to see what it looks like.\n",
    "print(type(data))"
   ]
  }
 ],
 "metadata": {
  "kernelspec": {
   "display_name": "Python 3.10.5 64-bit",
   "language": "python",
   "name": "python3"
  },
  "language_info": {
   "codemirror_mode": {
    "name": "ipython",
    "version": 3
   },
   "file_extension": ".py",
   "mimetype": "text/x-python",
   "name": "python",
   "nbconvert_exporter": "python",
   "pygments_lexer": "ipython3",
   "version": "3.10.5"
  },
  "orig_nbformat": 4,
  "vscode": {
   "interpreter": {
    "hash": "aee8b7b246df8f9039afb4144a1f6fd8d2ca17a180786b69acc140d282b71a49"
   }
  }
 },
 "nbformat": 4,
 "nbformat_minor": 2
}
