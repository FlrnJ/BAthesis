{
 "cells": [
  {
   "cell_type": "code",
   "execution_count": 1,
   "metadata": {},
   "outputs": [],
   "source": [
    "import pandas as pd\n",
    "import geopandas as gpd"
   ]
  },
  {
   "cell_type": "code",
   "execution_count": 7,
   "metadata": {},
   "outputs": [
    {
     "data": {
      "text/plain": [
       "(44929, 4)"
      ]
     },
     "execution_count": 7,
     "metadata": {},
     "output_type": "execute_result"
    }
   ],
   "source": [
    "#read the polygons\n",
    "polygons = gpd.read_file(\"data/polygons/global_mining_polygons_v2.gpkg\")\n",
    "\n",
    "#set the column called 'geometry' as the geometry of the GeoPandas\n",
    "polygons = polygons.set_geometry(\"geometry\")\n",
    "polygons = polygons.to_crs(\"EPSG:4326\")\n",
    "\n",
    "polygons.shape"
   ]
  },
  {
   "cell_type": "code",
   "execution_count": 3,
   "metadata": {},
   "outputs": [
    {
     "name": "stdout",
     "output_type": "stream",
     "text": [
      "(44929, 4) \n",
      "   ISO3_CODE    COUNTRY_NAME      AREA  \\\n",
      "0       GBR  United Kingdom  1.782044   \n",
      "1       FJI            Fiji  0.023405   \n",
      "2       NZL     New Zealand  0.042758   \n",
      "3       FJI            Fiji  0.248552   \n",
      "4       FJI            Fiji  0.132724   \n",
      "\n",
      "                                            geometry  \n",
      "0  POLYGON ((-1.67130 55.07660, -1.67040 55.07710...  \n",
      "1  POLYGON ((177.85480 -17.51730, 177.85490 -17.5...  \n",
      "2  POLYGON ((175.87200 -37.34490, 175.87180 -37.3...  \n",
      "3  POLYGON ((177.84260 -17.51850, 177.84370 -17.5...  \n",
      "4  POLYGON ((177.84950 -17.49510, 177.84920 -17.4...  \n"
     ]
    }
   ],
   "source": [
    "polygons_backup = polygons.copy()\n",
    "print(polygons_backup.shape, '\\n',\n",
    "polygons_backup.head())"
   ]
  },
  {
   "cell_type": "code",
   "execution_count": 8,
   "metadata": {},
   "outputs": [
    {
     "name": "stdout",
     "output_type": "stream",
     "text": [
      "epsg:32630\n",
      "0\n",
      "epsg:32760\n",
      "1\n",
      "epsg:32760\n",
      "2\n",
      "epsg:32760\n",
      "3\n",
      "epsg:32760\n",
      "4\n",
      "epsg:32760\n",
      "5\n",
      "epsg:32760\n",
      "6\n",
      "epsg:32760\n",
      "7\n",
      "epsg:32760\n",
      "8\n",
      "epsg:32760\n",
      "9\n"
     ]
    }
   ],
   "source": [
    "#Convert geometries from wsg84 to UTM\n",
    "for i in range(10): #len(polygons)\n",
    "    poly = polygons.iloc[[i]]\n",
    "    est_epsg = poly.estimate_utm_crs()\n",
    "    print(est_epsg)\n",
    "    polygons.iloc[[i]] = polygons.iloc[[i]].to_crs(crs=est_epsg)\n",
    "    print(i)"
   ]
  },
  {
   "cell_type": "code",
   "execution_count": 10,
   "metadata": {},
   "outputs": [
    {
     "data": {
      "text/html": [
       "<div>\n",
       "<style scoped>\n",
       "    .dataframe tbody tr th:only-of-type {\n",
       "        vertical-align: middle;\n",
       "    }\n",
       "\n",
       "    .dataframe tbody tr th {\n",
       "        vertical-align: top;\n",
       "    }\n",
       "\n",
       "    .dataframe thead th {\n",
       "        text-align: right;\n",
       "    }\n",
       "</style>\n",
       "<table border=\"1\" class=\"dataframe\">\n",
       "  <thead>\n",
       "    <tr style=\"text-align: right;\">\n",
       "      <th></th>\n",
       "      <th>ISO3_CODE</th>\n",
       "      <th>COUNTRY_NAME</th>\n",
       "      <th>AREA</th>\n",
       "      <th>geometry</th>\n",
       "      <th>utm_geometry</th>\n",
       "    </tr>\n",
       "  </thead>\n",
       "  <tbody>\n",
       "    <tr>\n",
       "      <th>0</th>\n",
       "      <td>GBR</td>\n",
       "      <td>United Kingdom</td>\n",
       "      <td>1.782044</td>\n",
       "      <td>POLYGON ((-1.67130 55.07660, -1.67040 55.07710...</td>\n",
       "      <td>POLYGON ((584830.37258 6104121.99125, 584886.7...</td>\n",
       "    </tr>\n",
       "    <tr>\n",
       "      <th>1</th>\n",
       "      <td>FJI</td>\n",
       "      <td>Fiji</td>\n",
       "      <td>0.023405</td>\n",
       "      <td>POLYGON ((177.85480 -17.51730, 177.85490 -17.5...</td>\n",
       "      <td>POLYGON ((590737.14827 8063013.45245, 590747.3...</td>\n",
       "    </tr>\n",
       "    <tr>\n",
       "      <th>2</th>\n",
       "      <td>NZL</td>\n",
       "      <td>New Zealand</td>\n",
       "      <td>0.042758</td>\n",
       "      <td>POLYGON ((175.87200 -37.34490, 175.87180 -37.3...</td>\n",
       "      <td>POLYGON ((400088.41580 5866268.99195, 400070.8...</td>\n",
       "    </tr>\n",
       "    <tr>\n",
       "      <th>3</th>\n",
       "      <td>FJI</td>\n",
       "      <td>Fiji</td>\n",
       "      <td>0.248552</td>\n",
       "      <td>POLYGON ((177.84260 -17.51850, 177.84370 -17.5...</td>\n",
       "      <td>POLYGON ((589441.45116 8062886.45848, 589557.3...</td>\n",
       "    </tr>\n",
       "    <tr>\n",
       "      <th>4</th>\n",
       "      <td>FJI</td>\n",
       "      <td>Fiji</td>\n",
       "      <td>0.132724</td>\n",
       "      <td>POLYGON ((177.84950 -17.49510, 177.84920 -17.4...</td>\n",
       "      <td>POLYGON ((590185.47386 8065472.19220, 590153.3...</td>\n",
       "    </tr>\n",
       "    <tr>\n",
       "      <th>5</th>\n",
       "      <td>FJI</td>\n",
       "      <td>Fiji</td>\n",
       "      <td>0.016743</td>\n",
       "      <td>POLYGON ((177.85220 -17.51780, 177.85290 -17.5...</td>\n",
       "      <td>POLYGON ((590460.89339 8062959.36970, 590534.7...</td>\n",
       "    </tr>\n",
       "    <tr>\n",
       "      <th>6</th>\n",
       "      <td>FJI</td>\n",
       "      <td>Fiji</td>\n",
       "      <td>0.593631</td>\n",
       "      <td>POLYGON ((177.84950 -17.51170, 177.84990 -17.5...</td>\n",
       "      <td>POLYGON ((590177.28320 8063635.55908, 590219.4...</td>\n",
       "    </tr>\n",
       "    <tr>\n",
       "      <th>7</th>\n",
       "      <td>FJI</td>\n",
       "      <td>Fiji</td>\n",
       "      <td>0.064495</td>\n",
       "      <td>POLYGON ((177.85130 -17.52080, 177.85080 -17.5...</td>\n",
       "      <td>POLYGON ((590363.86805 8062627.87495, 590310.5...</td>\n",
       "    </tr>\n",
       "    <tr>\n",
       "      <th>8</th>\n",
       "      <td>FJI</td>\n",
       "      <td>Fiji</td>\n",
       "      <td>0.195868</td>\n",
       "      <td>POLYGON ((177.84520 -17.49590, 177.84470 -17.4...</td>\n",
       "      <td>POLYGON ((589728.55299 8065385.70976, 589674.9...</td>\n",
       "    </tr>\n",
       "    <tr>\n",
       "      <th>9</th>\n",
       "      <td>NZL</td>\n",
       "      <td>New Zealand</td>\n",
       "      <td>0.065506</td>\n",
       "      <td>POLYGON ((175.92220 -37.41010, 175.92180 -37.4...</td>\n",
       "      <td>POLYGON ((404617.59372 5859087.27025, 404582.1...</td>\n",
       "    </tr>\n",
       "  </tbody>\n",
       "</table>\n",
       "</div>"
      ],
      "text/plain": [
       "  ISO3_CODE    COUNTRY_NAME      AREA  \\\n",
       "0       GBR  United Kingdom  1.782044   \n",
       "1       FJI            Fiji  0.023405   \n",
       "2       NZL     New Zealand  0.042758   \n",
       "3       FJI            Fiji  0.248552   \n",
       "4       FJI            Fiji  0.132724   \n",
       "5       FJI            Fiji  0.016743   \n",
       "6       FJI            Fiji  0.593631   \n",
       "7       FJI            Fiji  0.064495   \n",
       "8       FJI            Fiji  0.195868   \n",
       "9       NZL     New Zealand  0.065506   \n",
       "\n",
       "                                            geometry  \\\n",
       "0  POLYGON ((-1.67130 55.07660, -1.67040 55.07710...   \n",
       "1  POLYGON ((177.85480 -17.51730, 177.85490 -17.5...   \n",
       "2  POLYGON ((175.87200 -37.34490, 175.87180 -37.3...   \n",
       "3  POLYGON ((177.84260 -17.51850, 177.84370 -17.5...   \n",
       "4  POLYGON ((177.84950 -17.49510, 177.84920 -17.4...   \n",
       "5  POLYGON ((177.85220 -17.51780, 177.85290 -17.5...   \n",
       "6  POLYGON ((177.84950 -17.51170, 177.84990 -17.5...   \n",
       "7  POLYGON ((177.85130 -17.52080, 177.85080 -17.5...   \n",
       "8  POLYGON ((177.84520 -17.49590, 177.84470 -17.4...   \n",
       "9  POLYGON ((175.92220 -37.41010, 175.92180 -37.4...   \n",
       "\n",
       "                                        utm_geometry  \n",
       "0  POLYGON ((584830.37258 6104121.99125, 584886.7...  \n",
       "1  POLYGON ((590737.14827 8063013.45245, 590747.3...  \n",
       "2  POLYGON ((400088.41580 5866268.99195, 400070.8...  \n",
       "3  POLYGON ((589441.45116 8062886.45848, 589557.3...  \n",
       "4  POLYGON ((590185.47386 8065472.19220, 590153.3...  \n",
       "5  POLYGON ((590460.89339 8062959.36970, 590534.7...  \n",
       "6  POLYGON ((590177.28320 8063635.55908, 590219.4...  \n",
       "7  POLYGON ((590363.86805 8062627.87495, 590310.5...  \n",
       "8  POLYGON ((589728.55299 8065385.70976, 589674.9...  \n",
       "9  POLYGON ((404617.59372 5859087.27025, 404582.1...  "
      ]
     },
     "execution_count": 10,
     "metadata": {},
     "output_type": "execute_result"
    }
   ],
   "source": [
    "polygons_backup['utm_geometry'] = polygons.geometry\n",
    "polygons_backup.head(10)"
   ]
  }
 ],
 "metadata": {
  "kernelspec": {
   "display_name": "Python 3 (ipykernel)",
   "language": "python",
   "name": "python3"
  },
  "language_info": {
   "codemirror_mode": {
    "name": "ipython",
    "version": 3
   },
   "file_extension": ".py",
   "mimetype": "text/x-python",
   "name": "python",
   "nbconvert_exporter": "python",
   "pygments_lexer": "ipython3",
   "version": "3.9.13"
  },
  "vscode": {
   "interpreter": {
    "hash": "aee8b7b246df8f9039afb4144a1f6fd8d2ca17a180786b69acc140d282b71a49"
   }
  }
 },
 "nbformat": 4,
 "nbformat_minor": 4
}
