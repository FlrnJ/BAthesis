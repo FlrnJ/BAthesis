{
 "cells": [
  {
   "cell_type": "code",
   "execution_count": 1,
   "id": "ff15242a-c086-4546-9caf-72746497d08f",
   "metadata": {},
   "outputs": [],
   "source": [
    "import numpy as np\n",
    "import matplotlib.pyplot as plt\n",
    "import os, glob\n",
    "from osgeo import gdal"
   ]
  },
  {
   "cell_type": "code",
   "execution_count": 3,
   "id": "42c72eb2-3a09-463a-8af5-27d59c6cf91d",
   "metadata": {},
   "outputs": [
    {
     "data": {
      "text/plain": [
       "[]"
      ]
     },
     "execution_count": 3,
     "metadata": {},
     "output_type": "execute_result"
    }
   ],
   "source": [
    "files_to_mosaic = glob.glob('Desktop/y12-ntl-hdf5/VNP46A4.A2012001.h00v06.001.2021124114230.h5')\n",
    "files_to_mosaic"
   ]
  },
  {
   "cell_type": "code",
   "execution_count": 9,
   "id": "63272b55-9eab-45a2-bc25-b2ebf71748b7",
   "metadata": {},
   "outputs": [
    {
     "name": "stdout",
     "output_type": "stream",
     "text": [
      "/Users/flurin/Desktop/knit-tile/9t9tile-out/h17v03.tif /Users/flurin/Desktop/knit-tile/9t9tile-out/elds_AllAngle_Composite_Snow_FreeVNP46A4.A2012001.h19v04.001.2021125082507_BBOX.tif /Users/flurin/Desktop/knit-tile/9t9tile-out/elds_AllAngle_Composite_Snow_FreeVNP46A4.A2012001.h18v04.001.2021124121144_BBOX.tif /Users/flurin/Desktop/knit-tile/9t9tile-out/elds_AllAngle_Composite_Snow_FreeVNP46A4.A2012001.h18v03.001.2021124115727_BBOX.tif /Users/flurin/Desktop/knit-tile/9t9tile-out/elds_AllAngle_Composite_Snow_FreeVNP46A4.A2012001.h18v05.001.2021125173830_BBOX.tif /Users/flurin/Desktop/knit-tile/9t9tile-out/elds_AllAngle_Composite_Snow_FreeVNP46A4.A2012001.h19v03.001.2021124123124_BBOX.tif /Users/flurin/Desktop/knit-tile/9t9tile-out/elds_AllAngle_Composite_Snow_FreeVNP46A4.A2012001.h19v05.001.2021124123123_BBOX.tif /Users/flurin/Desktop/knit-tile/9t9tile-out/elds_AllAngle_Composite_Snow_FreeVNP46A4.A2012001.h17v04.001.2021125082406_BBOX.tif /Users/flurin/Desktop/knit-tile/9t9tile-out/elds_AllAngle_Composite_Snow_FreeVNP46A4.A2012001.h17v05.001.2021124122331_BBOX.tif\n"
     ]
    }
   ],
   "source": [
    "files_string = \" \".join(files_to_mosaic)\n",
    "print(files_string)"
   ]
  },
  {
   "cell_type": "code",
   "execution_count": 11,
   "id": "9de233a9-0a9d-48de-865d-3538444d6214",
   "metadata": {},
   "outputs": [
    {
     "name": "stdout",
     "output_type": "stream",
     "text": [
      "0...10...20...30...40...50...60...70...80...90...100 - done.\n",
      "\n"
     ]
    }
   ],
   "source": [
    "command = \"gdal_merge.py -o /Users/flurin/Desktop/knit-tile/9t9tile-out/TEAK_Aspect_Mosaic.tif -of gtiff \" + files_string\n",
    "print(os.popen(command).read())"
   ]
  }
 ],
 "metadata": {
  "kernelspec": {
   "display_name": "Python 3 (ipykernel)",
   "language": "python",
   "name": "python3"
  },
  "language_info": {
   "codemirror_mode": {
    "name": "ipython",
    "version": 3
   },
   "file_extension": ".py",
   "mimetype": "text/x-python",
   "name": "python",
   "nbconvert_exporter": "python",
   "pygments_lexer": "ipython3",
   "version": "3.9.13"
  }
 },
 "nbformat": 4,
 "nbformat_minor": 5
}
