{
 "cells": [
  {
   "cell_type": "code",
   "execution_count": 6,
   "metadata": {},
   "outputs": [],
   "source": [
    "import numpy as np\n",
    "import geopandas as gpd\n",
    "import pandas as pd\n",
    "import rasterio\n",
    "from rasterio.mask import mask\n",
    "import os\n",
    "import matplotlib.pyplot as plt"
   ]
  },
  {
   "cell_type": "code",
   "execution_count": 52,
   "metadata": {},
   "outputs": [
    {
     "data": {
      "text/html": [
       "<div>\n",
       "<style scoped>\n",
       "    .dataframe tbody tr th:only-of-type {\n",
       "        vertical-align: middle;\n",
       "    }\n",
       "\n",
       "    .dataframe tbody tr th {\n",
       "        vertical-align: top;\n",
       "    }\n",
       "\n",
       "    .dataframe thead th {\n",
       "        text-align: right;\n",
       "    }\n",
       "</style>\n",
       "<table border=\"1\" class=\"dataframe\">\n",
       "  <thead>\n",
       "    <tr style=\"text-align: right;\">\n",
       "      <th></th>\n",
       "      <th>ISO3_CODE</th>\n",
       "      <th>COUNTRY_NAME</th>\n",
       "      <th>AREA</th>\n",
       "      <th>geometry</th>\n",
       "    </tr>\n",
       "  </thead>\n",
       "  <tbody>\n",
       "    <tr>\n",
       "      <th>0</th>\n",
       "      <td>GBR</td>\n",
       "      <td>United Kingdom</td>\n",
       "      <td>1.782044</td>\n",
       "      <td>POLYGON ((-1.67130 55.07660, -1.67040 55.07710...</td>\n",
       "    </tr>\n",
       "    <tr>\n",
       "      <th>1</th>\n",
       "      <td>FJI</td>\n",
       "      <td>Fiji</td>\n",
       "      <td>0.023405</td>\n",
       "      <td>POLYGON ((177.85480 -17.51730, 177.85490 -17.5...</td>\n",
       "    </tr>\n",
       "    <tr>\n",
       "      <th>2</th>\n",
       "      <td>NZL</td>\n",
       "      <td>New Zealand</td>\n",
       "      <td>0.042758</td>\n",
       "      <td>POLYGON ((175.87200 -37.34490, 175.87180 -37.3...</td>\n",
       "    </tr>\n",
       "    <tr>\n",
       "      <th>3</th>\n",
       "      <td>FJI</td>\n",
       "      <td>Fiji</td>\n",
       "      <td>0.248552</td>\n",
       "      <td>POLYGON ((177.84260 -17.51850, 177.84370 -17.5...</td>\n",
       "    </tr>\n",
       "    <tr>\n",
       "      <th>4</th>\n",
       "      <td>FJI</td>\n",
       "      <td>Fiji</td>\n",
       "      <td>0.132724</td>\n",
       "      <td>POLYGON ((177.84950 -17.49510, 177.84920 -17.4...</td>\n",
       "    </tr>\n",
       "  </tbody>\n",
       "</table>\n",
       "</div>"
      ],
      "text/plain": [
       "  ISO3_CODE    COUNTRY_NAME      AREA  \\\n",
       "0       GBR  United Kingdom  1.782044   \n",
       "1       FJI            Fiji  0.023405   \n",
       "2       NZL     New Zealand  0.042758   \n",
       "3       FJI            Fiji  0.248552   \n",
       "4       FJI            Fiji  0.132724   \n",
       "\n",
       "                                            geometry  \n",
       "0  POLYGON ((-1.67130 55.07660, -1.67040 55.07710...  \n",
       "1  POLYGON ((177.85480 -17.51730, 177.85490 -17.5...  \n",
       "2  POLYGON ((175.87200 -37.34490, 175.87180 -37.3...  \n",
       "3  POLYGON ((177.84260 -17.51850, 177.84370 -17.5...  \n",
       "4  POLYGON ((177.84950 -17.49510, 177.84920 -17.4...  "
      ]
     },
     "execution_count": 52,
     "metadata": {},
     "output_type": "execute_result"
    }
   ],
   "source": [
    "#read the polygons\n",
    "k45_mines = gpd.read_file(\"data/polygons/global_mining_polygons_v2.gpkg\")\n",
    "\n",
    "#set the column called 'geometry' as the geometry of the GeoPandas\n",
    "k45_mines = k45_mines.set_geometry(\"geometry\")\n",
    "k45_mines = k45_mines.to_crs(\"EPSG:4326\")\n",
    "\n",
    "k45_mines.head()"
   ]
  },
  {
   "cell_type": "code",
   "execution_count": 84,
   "metadata": {},
   "outputs": [
    {
     "data": {
      "text/plain": [
       "shapely.geometry.polygon.Polygon"
      ]
     },
     "execution_count": 84,
     "metadata": {},
     "output_type": "execute_result"
    }
   ],
   "source": [
    "type(k45_mines.iloc[1]['geometry'])\n"
   ]
  },
  {
   "cell_type": "markdown",
   "metadata": {},
   "source": [
    "### Get aggregated NTL Emissions\n",
    "1. Get sorted list of files in 'data/viirs-tif/mosaic'\n",
    "2. open and loop trough files and compute ntl-emissions sums for each intervall and each mine\n",
    "3. append ntl-emissions for each intervall as cloumn to the polygon DataFrame"
   ]
  },
  {
   "cell_type": "code",
   "execution_count": 57,
   "metadata": {},
   "outputs": [
    {
     "data": {
      "text/plain": [
       "['2012-mosaic.tif',\n",
       " '2013-mosaic.tif',\n",
       " '2014-mosaic.tif',\n",
       " '2015-mosaic.tif',\n",
       " '2016-mosaic.tif',\n",
       " '2017-mosaic.tif',\n",
       " '2018-mosaic.tif',\n",
       " '2019-mosaic.tif',\n",
       " '2020-mosaic.tif',\n",
       " '2021-mosaic.tif']"
      ]
     },
     "execution_count": 57,
     "metadata": {},
     "output_type": "execute_result"
    }
   ],
   "source": [
    "all_tif_mosaics = sorted(os.listdir('/Users/flurin/Downloads/mosaic/'))\n",
    "all_tif_mosaics\n",
    "\n",
    "#If list includes .DS_Store file move to directory in terminal and use <find . -name '.DS_Store' -type f -delete> to remove it"
   ]
  },
  {
   "cell_type": "code",
   "execution_count": null,
   "metadata": {},
   "outputs": [],
   "source": [
    "#i switched i with j !!!\n",
    "\n",
    "for i in range(len(all_tif_mosaics)):\n",
    "    file = all_tif_mosaics[i]\n",
    "    #print('data/viirs-tif/mosaic/' + file)\n",
    "    viirs_data = rasterio.open('/Users/flurin/Downloads/mosaic/' + file)\n",
    "\n",
    "    agg_ntl = []\n",
    "\n",
    "    for j in range(len(k45_mines)):\n",
    "        active_polygon = k45_mines.iloc[j]\n",
    "\n",
    "        crop_img, crop_transform = mask(viirs_data, shapes = [active_polygon['geometry']], crop=True)\n",
    "\n",
    "        agg_ntl.append(np.sum(crop_img))\n",
    "\n",
    "    k45_mines['agg_ntl_' + all_tif_mosaics[i][:4]] = agg_ntl"
   ]
  },
  {
   "cell_type": "code",
   "execution_count": null,
   "metadata": {},
   "outputs": [],
   "source": [
    "#polygons.to_csv('ann_ntl_emiss_2012-2021')"
   ]
  }
 ],
 "metadata": {
  "kernelspec": {
   "display_name": "Python 3 (ipykernel)",
   "language": "python",
   "name": "python3"
  },
  "language_info": {
   "codemirror_mode": {
    "name": "ipython",
    "version": 3
   },
   "file_extension": ".py",
   "mimetype": "text/x-python",
   "name": "python",
   "nbconvert_exporter": "python",
   "pygments_lexer": "ipython3",
   "version": "3.10.5 (v3.10.5:f377153967, Jun  6 2022, 12:36:10) [Clang 13.0.0 (clang-1300.0.29.30)]"
  },
  "vscode": {
   "interpreter": {
    "hash": "aee8b7b246df8f9039afb4144a1f6fd8d2ca17a180786b69acc140d282b71a49"
   }
  }
 },
 "nbformat": 4,
 "nbformat_minor": 4
}
